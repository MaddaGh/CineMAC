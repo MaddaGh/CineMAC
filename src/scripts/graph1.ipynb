{
 "cells": [
  {
   "cell_type": "code",
   "execution_count": 143,
   "id": "5b9a3887-3dbb-4821-b2e2-29b662ddb8f3",
   "metadata": {
    "tags": []
   },
   "outputs": [
    {
     "name": "stdout",
     "output_type": "stream",
     "text": [
      "Requirement already satisfied: networkx in /opt/homebrew/Cellar/jupyterlab/3.6.1/libexec/lib/python3.11/site-packages (3.0)\n",
      "Note: you may need to restart the kernel to use updated packages.\n"
     ]
    }
   ],
   "source": [
    "#build graph1 \n",
    "\n",
    "%pip install networkx\n",
    "import networkx as nx\n",
    "import pandas as pd\n",
    "import os\n",
    "import numpy as np\n",
    "import matplotlib.pyplot as plt\n",
    "import time"
   ]
  },
  {
   "cell_type": "code",
   "execution_count": 144,
   "id": "66d1ea8b-aa5e-40e8-a690-3553ddae47ab",
   "metadata": {
    "tags": []
   },
   "outputs": [],
   "source": [
    "def time(func):\n",
    "    start = time.time()\n",
    "    func()\n",
    "    end = time.time()\n",
    "    elapsed_time = end - start\n",
    "    print(f\"executed in: {elapsed_time:.4f} seconds\")\n",
    "    "
   ]
  },
  {
   "cell_type": "code",
   "execution_count": 145,
   "id": "4d6f435c-d89e-4001-8622-3780a400ff2c",
   "metadata": {
    "tags": []
   },
   "outputs": [
    {
     "data": {
      "text/html": [
       "<div>\n",
       "<style scoped>\n",
       "    .dataframe tbody tr th:only-of-type {\n",
       "        vertical-align: middle;\n",
       "    }\n",
       "\n",
       "    .dataframe tbody tr th {\n",
       "        vertical-align: top;\n",
       "    }\n",
       "\n",
       "    .dataframe thead th {\n",
       "        text-align: right;\n",
       "    }\n",
       "</style>\n",
       "<table border=\"1\" class=\"dataframe\">\n",
       "  <thead>\n",
       "    <tr style=\"text-align: right;\">\n",
       "      <th></th>\n",
       "      <th>Unnamed: 0</th>\n",
       "      <th>movie</th>\n",
       "      <th>movie_country</th>\n",
       "      <th>cites</th>\n",
       "      <th>cites_country</th>\n",
       "      <th>title</th>\n",
       "      <th>year</th>\n",
       "      <th>tconst</th>\n",
       "      <th>titleType</th>\n",
       "      <th>genres</th>\n",
       "      <th>cit</th>\n",
       "      <th>country_cit</th>\n",
       "      <th>primaryTitle_cit</th>\n",
       "      <th>year_cit</th>\n",
       "      <th>tconst_cit</th>\n",
       "      <th>titleType_cit</th>\n",
       "      <th>genres_cit</th>\n",
       "    </tr>\n",
       "  </thead>\n",
       "  <tbody>\n",
       "    <tr>\n",
       "      <th>0</th>\n",
       "      <td>0</td>\n",
       "      <td>#FromJennifer (2017)</td>\n",
       "      <td>USA</td>\n",
       "      <td>2 Jennifer (2016)</td>\n",
       "      <td>USA</td>\n",
       "      <td>#FromJennifer</td>\n",
       "      <td>2017.0</td>\n",
       "      <td>tt5611424</td>\n",
       "      <td>movie</td>\n",
       "      <td>Comedy,Horror,Thriller</td>\n",
       "      <td>2 Jennifer (2016)</td>\n",
       "      <td>USA</td>\n",
       "      <td>2 Jennifer</td>\n",
       "      <td>2016.0</td>\n",
       "      <td>tt4627224</td>\n",
       "      <td>movie</td>\n",
       "      <td>Horror</td>\n",
       "    </tr>\n",
       "    <tr>\n",
       "      <th>1</th>\n",
       "      <td>1</td>\n",
       "      <td>#FromJennifer (2017)</td>\n",
       "      <td>USA</td>\n",
       "      <td>To Jennifer (2013)</td>\n",
       "      <td>USA</td>\n",
       "      <td>#FromJennifer</td>\n",
       "      <td>2017.0</td>\n",
       "      <td>tt5611424</td>\n",
       "      <td>movie</td>\n",
       "      <td>Comedy,Horror,Thriller</td>\n",
       "      <td>To Jennifer (2013)</td>\n",
       "      <td>USA</td>\n",
       "      <td>To Jennifer</td>\n",
       "      <td>2013.0</td>\n",
       "      <td>tt2630300</td>\n",
       "      <td>movie</td>\n",
       "      <td>Horror,Thriller</td>\n",
       "    </tr>\n",
       "    <tr>\n",
       "      <th>2</th>\n",
       "      <td>2</td>\n",
       "      <td>#Rip (2013)</td>\n",
       "      <td>USA</td>\n",
       "      <td>Love, Simple (2012)</td>\n",
       "      <td>USA</td>\n",
       "      <td>#Rip</td>\n",
       "      <td>2013.0</td>\n",
       "      <td>tt1900964</td>\n",
       "      <td>movie</td>\n",
       "      <td>Musical</td>\n",
       "      <td>Love, Simple (2012)</td>\n",
       "      <td>USA</td>\n",
       "      <td>Love, Simple</td>\n",
       "      <td>2012.0</td>\n",
       "      <td>tt1153698</td>\n",
       "      <td>movie</td>\n",
       "      <td>Comedy,Romance</td>\n",
       "    </tr>\n",
       "    <tr>\n",
       "      <th>3</th>\n",
       "      <td>3</td>\n",
       "      <td>#Rip (2013)</td>\n",
       "      <td>USA</td>\n",
       "      <td>Love, Simple (2012)</td>\n",
       "      <td>USA</td>\n",
       "      <td>#Rip</td>\n",
       "      <td>2013.0</td>\n",
       "      <td>tt2290968</td>\n",
       "      <td>movie</td>\n",
       "      <td>Action</td>\n",
       "      <td>Love, Simple (2012)</td>\n",
       "      <td>USA</td>\n",
       "      <td>Love, Simple</td>\n",
       "      <td>2012.0</td>\n",
       "      <td>tt1153698</td>\n",
       "      <td>movie</td>\n",
       "      <td>Comedy,Romance</td>\n",
       "    </tr>\n",
       "    <tr>\n",
       "      <th>4</th>\n",
       "      <td>4</td>\n",
       "      <td>R.I.P. (2013)</td>\n",
       "      <td>USA</td>\n",
       "      <td>Doctor Faustus (1967)</td>\n",
       "      <td>UK</td>\n",
       "      <td>R.I.P.</td>\n",
       "      <td>2013.0</td>\n",
       "      <td>tt1900964</td>\n",
       "      <td>movie</td>\n",
       "      <td>Musical</td>\n",
       "      <td>Doctor Faustus (1967)</td>\n",
       "      <td>UK</td>\n",
       "      <td>Doctor Faustus</td>\n",
       "      <td>1967.0</td>\n",
       "      <td>tt0062898</td>\n",
       "      <td>movie</td>\n",
       "      <td>Drama,Horror,Mystery</td>\n",
       "    </tr>\n",
       "    <tr>\n",
       "      <th>...</th>\n",
       "      <td>...</td>\n",
       "      <td>...</td>\n",
       "      <td>...</td>\n",
       "      <td>...</td>\n",
       "      <td>...</td>\n",
       "      <td>...</td>\n",
       "      <td>...</td>\n",
       "      <td>...</td>\n",
       "      <td>...</td>\n",
       "      <td>...</td>\n",
       "      <td>...</td>\n",
       "      <td>...</td>\n",
       "      <td>...</td>\n",
       "      <td>...</td>\n",
       "      <td>...</td>\n",
       "      <td>...</td>\n",
       "      <td>...</td>\n",
       "    </tr>\n",
       "    <tr>\n",
       "      <th>219095</th>\n",
       "      <td>219095</td>\n",
       "      <td>X-Men: Dark Phoenix (2018)</td>\n",
       "      <td>USA</td>\n",
       "      <td>X-Men: The Last Stand (2006)</td>\n",
       "      <td>Canada</td>\n",
       "      <td>X-Men: Dark Phoenix</td>\n",
       "      <td>2018.0</td>\n",
       "      <td>tt6565702</td>\n",
       "      <td>movie</td>\n",
       "      <td>Action,Adventure,Sci-Fi</td>\n",
       "      <td>X-Men: The Last Stand (2006)</td>\n",
       "      <td>Canada</td>\n",
       "      <td>X-Men: The Last Stand</td>\n",
       "      <td>2006.0</td>\n",
       "      <td>tt0376994</td>\n",
       "      <td>movie</td>\n",
       "      <td>Action,Adventure,Sci-Fi</td>\n",
       "    </tr>\n",
       "    <tr>\n",
       "      <th>219096</th>\n",
       "      <td>219096</td>\n",
       "      <td>X-Men: Dark Phoenix (2018)</td>\n",
       "      <td>USA</td>\n",
       "      <td>X-Men: The Last Stand (2006)</td>\n",
       "      <td>USA</td>\n",
       "      <td>X-Men: Dark Phoenix</td>\n",
       "      <td>2018.0</td>\n",
       "      <td>tt6565702</td>\n",
       "      <td>movie</td>\n",
       "      <td>Action,Adventure,Sci-Fi</td>\n",
       "      <td>X-Men: The Last Stand (2006)</td>\n",
       "      <td>USA</td>\n",
       "      <td>X-Men: The Last Stand</td>\n",
       "      <td>2006.0</td>\n",
       "      <td>tt0376994</td>\n",
       "      <td>movie</td>\n",
       "      <td>Action,Adventure,Sci-Fi</td>\n",
       "    </tr>\n",
       "    <tr>\n",
       "      <th>219097</th>\n",
       "      <td>219097</td>\n",
       "      <td>X-Men: Dark Phoenix (2018)</td>\n",
       "      <td>USA</td>\n",
       "      <td>X-Men: The Last Stand (2006)</td>\n",
       "      <td>UK</td>\n",
       "      <td>X-Men: Dark Phoenix</td>\n",
       "      <td>2018.0</td>\n",
       "      <td>tt6565702</td>\n",
       "      <td>movie</td>\n",
       "      <td>Action,Adventure,Sci-Fi</td>\n",
       "      <td>X-Men: The Last Stand (2006)</td>\n",
       "      <td>UK</td>\n",
       "      <td>X-Men: The Last Stand</td>\n",
       "      <td>2006.0</td>\n",
       "      <td>tt0376994</td>\n",
       "      <td>movie</td>\n",
       "      <td>Action,Adventure,Sci-Fi</td>\n",
       "    </tr>\n",
       "    <tr>\n",
       "      <th>219098</th>\n",
       "      <td>219098</td>\n",
       "      <td>X-Men: Dark Phoenix (2018)</td>\n",
       "      <td>USA</td>\n",
       "      <td>X: First Class (2011)</td>\n",
       "      <td>USA</td>\n",
       "      <td>X-Men: Dark Phoenix</td>\n",
       "      <td>2018.0</td>\n",
       "      <td>tt6565702</td>\n",
       "      <td>movie</td>\n",
       "      <td>Action,Adventure,Sci-Fi</td>\n",
       "      <td>X: First Class (2011)</td>\n",
       "      <td>USA</td>\n",
       "      <td>X: First Class</td>\n",
       "      <td>2011.0</td>\n",
       "      <td>tt1270798</td>\n",
       "      <td>movie</td>\n",
       "      <td>Action,Sci-Fi</td>\n",
       "    </tr>\n",
       "    <tr>\n",
       "      <th>219099</th>\n",
       "      <td>219099</td>\n",
       "      <td>X-Men: Dark Phoenix (2018)</td>\n",
       "      <td>USA</td>\n",
       "      <td>X: First Class (2011)</td>\n",
       "      <td>UK</td>\n",
       "      <td>X-Men: Dark Phoenix</td>\n",
       "      <td>2018.0</td>\n",
       "      <td>tt6565702</td>\n",
       "      <td>movie</td>\n",
       "      <td>Action,Adventure,Sci-Fi</td>\n",
       "      <td>X: First Class (2011)</td>\n",
       "      <td>UK</td>\n",
       "      <td>X: First Class</td>\n",
       "      <td>2011.0</td>\n",
       "      <td>tt1270798</td>\n",
       "      <td>movie</td>\n",
       "      <td>Action,Sci-Fi</td>\n",
       "    </tr>\n",
       "  </tbody>\n",
       "</table>\n",
       "<p>219100 rows × 17 columns</p>\n",
       "</div>"
      ],
      "text/plain": [
       "        Unnamed: 0                       movie movie_country  \\\n",
       "0                0        #FromJennifer (2017)           USA   \n",
       "1                1        #FromJennifer (2017)           USA   \n",
       "2                2                 #Rip (2013)           USA   \n",
       "3                3                 #Rip (2013)           USA   \n",
       "4                4               R.I.P. (2013)           USA   \n",
       "...            ...                         ...           ...   \n",
       "219095      219095  X-Men: Dark Phoenix (2018)           USA   \n",
       "219096      219096  X-Men: Dark Phoenix (2018)           USA   \n",
       "219097      219097  X-Men: Dark Phoenix (2018)           USA   \n",
       "219098      219098  X-Men: Dark Phoenix (2018)           USA   \n",
       "219099      219099  X-Men: Dark Phoenix (2018)           USA   \n",
       "\n",
       "                               cites cites_country                title  \\\n",
       "0                  2 Jennifer (2016)           USA        #FromJennifer   \n",
       "1                 To Jennifer (2013)           USA        #FromJennifer   \n",
       "2                Love, Simple (2012)           USA                 #Rip   \n",
       "3                Love, Simple (2012)           USA                 #Rip   \n",
       "4              Doctor Faustus (1967)            UK               R.I.P.   \n",
       "...                              ...           ...                  ...   \n",
       "219095  X-Men: The Last Stand (2006)        Canada  X-Men: Dark Phoenix   \n",
       "219096  X-Men: The Last Stand (2006)           USA  X-Men: Dark Phoenix   \n",
       "219097  X-Men: The Last Stand (2006)            UK  X-Men: Dark Phoenix   \n",
       "219098         X: First Class (2011)           USA  X-Men: Dark Phoenix   \n",
       "219099         X: First Class (2011)            UK  X-Men: Dark Phoenix   \n",
       "\n",
       "          year     tconst titleType                   genres  \\\n",
       "0       2017.0  tt5611424     movie   Comedy,Horror,Thriller   \n",
       "1       2017.0  tt5611424     movie   Comedy,Horror,Thriller   \n",
       "2       2013.0  tt1900964     movie                  Musical   \n",
       "3       2013.0  tt2290968     movie                   Action   \n",
       "4       2013.0  tt1900964     movie                  Musical   \n",
       "...        ...        ...       ...                      ...   \n",
       "219095  2018.0  tt6565702     movie  Action,Adventure,Sci-Fi   \n",
       "219096  2018.0  tt6565702     movie  Action,Adventure,Sci-Fi   \n",
       "219097  2018.0  tt6565702     movie  Action,Adventure,Sci-Fi   \n",
       "219098  2018.0  tt6565702     movie  Action,Adventure,Sci-Fi   \n",
       "219099  2018.0  tt6565702     movie  Action,Adventure,Sci-Fi   \n",
       "\n",
       "                                 cit country_cit       primaryTitle_cit  \\\n",
       "0                  2 Jennifer (2016)         USA             2 Jennifer   \n",
       "1                 To Jennifer (2013)         USA            To Jennifer   \n",
       "2                Love, Simple (2012)         USA           Love, Simple   \n",
       "3                Love, Simple (2012)         USA           Love, Simple   \n",
       "4              Doctor Faustus (1967)          UK         Doctor Faustus   \n",
       "...                              ...         ...                    ...   \n",
       "219095  X-Men: The Last Stand (2006)      Canada  X-Men: The Last Stand   \n",
       "219096  X-Men: The Last Stand (2006)         USA  X-Men: The Last Stand   \n",
       "219097  X-Men: The Last Stand (2006)          UK  X-Men: The Last Stand   \n",
       "219098         X: First Class (2011)         USA         X: First Class   \n",
       "219099         X: First Class (2011)          UK         X: First Class   \n",
       "\n",
       "        year_cit tconst_cit titleType_cit               genres_cit  \n",
       "0         2016.0  tt4627224         movie                   Horror  \n",
       "1         2013.0  tt2630300         movie          Horror,Thriller  \n",
       "2         2012.0  tt1153698         movie           Comedy,Romance  \n",
       "3         2012.0  tt1153698         movie           Comedy,Romance  \n",
       "4         1967.0  tt0062898         movie     Drama,Horror,Mystery  \n",
       "...          ...        ...           ...                      ...  \n",
       "219095    2006.0  tt0376994         movie  Action,Adventure,Sci-Fi  \n",
       "219096    2006.0  tt0376994         movie  Action,Adventure,Sci-Fi  \n",
       "219097    2006.0  tt0376994         movie  Action,Adventure,Sci-Fi  \n",
       "219098    2011.0  tt1270798         movie            Action,Sci-Fi  \n",
       "219099    2011.0  tt1270798         movie            Action,Sci-Fi  \n",
       "\n",
       "[219100 rows x 17 columns]"
      ]
     },
     "execution_count": 145,
     "metadata": {},
     "output_type": "execute_result"
    }
   ],
   "source": [
    "cwd = os.getcwd()\n",
    "graph1_df = pd.read_csv(cwd+'/graph_files/graph_1_movies_cit.csv')\n",
    "graph1_df\n"
   ]
  },
  {
   "cell_type": "code",
   "execution_count": 146,
   "id": "0ce77a3e-c99b-4348-8db8-1e8c470809e8",
   "metadata": {
    "tags": []
   },
   "outputs": [
    {
     "name": "stdout",
     "output_type": "stream",
     "text": [
      "<class 'pandas.core.frame.DataFrame'>\n",
      "RangeIndex: 219100 entries, 0 to 219099\n",
      "Data columns (total 17 columns):\n",
      " #   Column            Non-Null Count   Dtype  \n",
      "---  ------            --------------   -----  \n",
      " 0   Unnamed: 0        219100 non-null  int64  \n",
      " 1   movie             219100 non-null  object \n",
      " 2   movie_country     218934 non-null  object \n",
      " 3   cites             219100 non-null  object \n",
      " 4   cites_country     219075 non-null  object \n",
      " 5   title             219100 non-null  object \n",
      " 6   year              219100 non-null  float64\n",
      " 7   tconst            219100 non-null  object \n",
      " 8   titleType         219100 non-null  object \n",
      " 9   genres            216603 non-null  object \n",
      " 10  cit               219100 non-null  object \n",
      " 11  country_cit       219075 non-null  object \n",
      " 12  primaryTitle_cit  219100 non-null  object \n",
      " 13  year_cit          219100 non-null  float64\n",
      " 14  tconst_cit        219100 non-null  object \n",
      " 15  titleType_cit     219100 non-null  object \n",
      " 16  genres_cit        215783 non-null  object \n",
      "dtypes: float64(2), int64(1), object(14)\n",
      "memory usage: 28.4+ MB\n"
     ]
    }
   ],
   "source": [
    "graph1_df.info()"
   ]
  },
  {
   "cell_type": "code",
   "execution_count": 147,
   "id": "e4a13559-9c25-4771-97c0-9bee15f8ed7e",
   "metadata": {
    "tags": []
   },
   "outputs": [],
   "source": [
    "g1 = nx.DiGraph()\n",
    "\n",
    "\n",
    "\n",
    "for row in graph1_df.itertuples():\n",
    "    # Add movie- type attribute\n",
    "    g1.add_node(row.movie, type='movie')\n",
    "    \n",
    "    # Add movie_country node\n",
    "    if pd.notna(row.movie_country):\n",
    "        g1.add_node(row.movie_country, type='country')\n",
    "        g1.add_edge(row.movie, row.movie_country)\n",
    "    \n",
    "    # Add cites \n",
    "    if pd.notna(row.cites):\n",
    "        g1.add_node(row.cites, type='movie')\n",
    "        \n",
    "        # Add cites_country node \n",
    "        if pd.notna(row.cites_country):\n",
    "            g1.add_node(row.cites_country, type='country')\n",
    "            g1.add_edge(row.cites, row.cites_country)\n",
    "            \n",
    "            # add edges from movie to cites\n",
    "            g1.add_edge(row.movie, row.cites)\n",
    "\n"
   ]
  },
  {
   "cell_type": "code",
   "execution_count": 148,
   "id": "983d73a3-9b63-4fd0-871f-4111ea000b0c",
   "metadata": {
    "tags": []
   },
   "outputs": [
    {
     "data": {
      "text/plain": [
       "<networkx.classes.digraph.DiGraph at 0x2a41a6850>"
      ]
     },
     "execution_count": 148,
     "metadata": {},
     "output_type": "execute_result"
    }
   ],
   "source": [
    "g1"
   ]
  },
  {
   "cell_type": "code",
   "execution_count": 149,
   "id": "d027da6a-0009-4407-9a47-381425c18448",
   "metadata": {
    "tags": []
   },
   "outputs": [
    {
     "data": {
      "text/plain": [
       "50446"
      ]
     },
     "execution_count": 149,
     "metadata": {},
     "output_type": "execute_result"
    }
   ],
   "source": [
    "len(list(g1.nodes))\n"
   ]
  },
  {
   "cell_type": "code",
   "execution_count": 150,
   "id": "27ce29bd-40c8-4831-aea0-5f2abda5fe6e",
   "metadata": {
    "tags": []
   },
   "outputs": [
    {
     "data": {
      "text/plain": [
       "['UK',\n",
       " 'USA',\n",
       " '2001: A Space Odyssey (1968)',\n",
       " 'Dark Star (1974)',\n",
       " 'Erinnerungen an die Zukunft (1970)',\n",
       " 'Ikarie XB 1 (1963)',\n",
       " 'It! The Terror from Beyond Space (1958)',\n",
       " 'Jaws (1975)',\n",
       " 'Night of the Living Dead (1968)',\n",
       " 'Rabid (1977)',\n",
       " 'Shivers (1975)',\n",
       " \"Singin' in the Rain (1952)\",\n",
       " 'Terrore nello spazio (1965)',\n",
       " 'The Texas Chain Saw Massacre (1974)']"
      ]
     },
     "execution_count": 150,
     "metadata": {},
     "output_type": "execute_result"
    }
   ],
   "source": [
    "#testing\n",
    "list(g1.edges)\n",
    "\n",
    "# att = nx.get_node_attributes(g1,'cites_country')\n",
    "\n",
    "list(g1.adj['Alien (1979)'])"
   ]
  },
  {
   "cell_type": "code",
   "execution_count": 151,
   "id": "1156de8c-95bc-4159-80df-45e5dd2ee266",
   "metadata": {
    "tags": []
   },
   "outputs": [],
   "source": [
    "nx.write_gexf(g1, 'graph_files/g1.gexf')\n",
    "\n"
   ]
  },
  {
   "cell_type": "code",
   "execution_count": 152,
   "id": "e0ee6684-b66b-40cf-82ae-016d5fdf7034",
   "metadata": {
    "tags": []
   },
   "outputs": [],
   "source": [
    "#SECOND APPROACH \n",
    "\n",
    "g2 = nx.DiGraph()\n",
    "# add nodes and attributes \n",
    "for row in graph1_df.itertuples():\n",
    "    if not pd.isna(row.movie_country):\n",
    "        if g2.has_node(row.movie):\n",
    "            existing_attrs = g2.nodes[row.movie]\n",
    "            if 'country' in existing_attrs:\n",
    "                # check if country is already in list before appending\n",
    "                if row.movie_country not in existing_attrs['country']:\n",
    "                    existing_attrs['country'].append(row.movie_country)\n",
    "            else:\n",
    "                # create new country list\n",
    "                g2.nodes[row.movie]['country'] = [row.movie_country]\n",
    "        else:\n",
    "            g2.add_node(row.movie, country=[row.movie_country])\n",
    "\n",
    "    if not pd.isna(row.cites_country):\n",
    "        if g2.has_node(row.cites):\n",
    "            existing_attrs = g2.nodes[row.cites]\n",
    "            if 'country' in existing_attrs:\n",
    "                # check if country is already in list before appending\n",
    "                if row.cites_country not in existing_attrs['country']:\n",
    "                    existing_attrs['country'].append(row.cites_country)\n",
    "            else:\n",
    "                # create new country list\n",
    "                g2.nodes[row.cites]['country'] = [row.cites_country]\n",
    "        else:\n",
    "            g2.add_node(row.cites, country=[row.cites_country])\n"
   ]
  },
  {
   "cell_type": "code",
   "execution_count": 153,
   "id": "81d9da20-81e5-483a-8cf5-26bc3fb0f8b2",
   "metadata": {},
   "outputs": [
    {
     "data": {
      "text/plain": [
       "<networkx.classes.digraph.DiGraph at 0x2a81263d0>"
      ]
     },
     "execution_count": 153,
     "metadata": {},
     "output_type": "execute_result"
    }
   ],
   "source": [
    "g2\n",
    "\n"
   ]
  },
  {
   "cell_type": "code",
   "execution_count": 154,
   "id": "1f946b1b-8125-4550-85da-dfc67cdeebaa",
   "metadata": {
    "tags": []
   },
   "outputs": [
    {
     "data": {
      "text/plain": [
       "{'country': ['UK', 'USA']}"
      ]
     },
     "execution_count": 154,
     "metadata": {},
     "output_type": "execute_result"
    }
   ],
   "source": [
    "#testing\n",
    "\n",
    "list(g2.adj['Alien (1979)'])\n",
    "g2.nodes['Alien (1979)']\n",
    "\n"
   ]
  },
  {
   "cell_type": "code",
   "execution_count": 155,
   "id": "7c79f056-2e50-4dc2-9631-31452f27ef45",
   "metadata": {
    "tags": []
   },
   "outputs": [],
   "source": [
    "\n",
    "# convert the 'country' attribute from list to string\n",
    "for node in g2.nodes:\n",
    "    if 'country' in g2.nodes[node]:\n",
    "        g2.nodes[node]['country'] = ','.join(g2.nodes[node]['country'])\n",
    "\n",
    "nx.write_gexf(g2, 'graph_files/g2.gexf')\n"
   ]
  },
  {
   "cell_type": "code",
   "execution_count": 156,
   "id": "e10c77dc-1cbd-4be1-a933-816c68576b90",
   "metadata": {
    "tags": []
   },
   "outputs": [
    {
     "data": {
      "text/plain": [
       "50247"
      ]
     },
     "execution_count": 156,
     "metadata": {},
     "output_type": "execute_result"
    }
   ],
   "source": [
    "len(g2)"
   ]
  },
  {
   "cell_type": "code",
   "execution_count": null,
   "id": "d6f5f211-82db-44a6-8518-0bcce88288ca",
   "metadata": {},
   "outputs": [],
   "source": []
  }
 ],
 "metadata": {
  "kernelspec": {
   "display_name": "Python 3 (ipykernel)",
   "language": "python",
   "name": "python3"
  },
  "language_info": {
   "codemirror_mode": {
    "name": "ipython",
    "version": 3
   },
   "file_extension": ".py",
   "mimetype": "text/x-python",
   "name": "python",
   "nbconvert_exporter": "python",
   "pygments_lexer": "ipython3",
   "version": "3.11.2"
  }
 },
 "nbformat": 4,
 "nbformat_minor": 5
}
