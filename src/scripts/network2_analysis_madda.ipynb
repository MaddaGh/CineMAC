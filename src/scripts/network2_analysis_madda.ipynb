{
 "cells": [
  {
   "cell_type": "code",
   "execution_count": 8,
   "metadata": {},
   "outputs": [
    {
     "ename": "FileNotFoundError",
     "evalue": "[Errno 2] No such file or directory: '../src/graph_files/network2proj.gexf'",
     "output_type": "error",
     "traceback": [
      "\u001b[1;31m---------------------------------------------------------------------------\u001b[0m",
      "\u001b[1;31mFileNotFoundError\u001b[0m                         Traceback (most recent call last)",
      "Cell \u001b[1;32mIn[8], line 14\u001b[0m\n\u001b[0;32m     10\u001b[0m \u001b[39mimport\u001b[39;00m \u001b[39mmatplotlib\u001b[39;00m\u001b[39m.\u001b[39;00m\u001b[39mpyplot\u001b[39;00m \u001b[39mas\u001b[39;00m \u001b[39mplt\u001b[39;00m\n\u001b[0;32m     11\u001b[0m \u001b[39mimport\u001b[39;00m \u001b[39mpandas\u001b[39;00m \u001b[39mas\u001b[39;00m \u001b[39mpd\u001b[39;00m\n\u001b[1;32m---> 14\u001b[0m \u001b[39mwith\u001b[39;00m \u001b[39mopen\u001b[39;49m(\u001b[39m\"\u001b[39;49m\u001b[39m../src/graph_files/network2proj.gexf\u001b[39;49m\u001b[39m\"\u001b[39;49m, \u001b[39m'\u001b[39;49m\u001b[39mr\u001b[39;49m\u001b[39m'\u001b[39;49m, encoding\u001b[39m=\u001b[39;49m\u001b[39m'\u001b[39;49m\u001b[39mutf-8\u001b[39;49m\u001b[39m'\u001b[39;49m) \u001b[39mas\u001b[39;00m f:\n\u001b[0;32m     15\u001b[0m     \n\u001b[0;32m     16\u001b[0m \u001b[39m# Read the graph from the file\u001b[39;00m\n\u001b[0;32m     17\u001b[0m     n2 \u001b[39m=\u001b[39m nx\u001b[39m.\u001b[39mread_gexf(f)\n\u001b[0;32m     19\u001b[0m \u001b[39m# ================ DEGREE CENTRALITY\u001b[39;00m\n\u001b[0;32m     20\u001b[0m \u001b[39m#I want to find out who are the most connected people in the network\u001b[39;00m\n\u001b[0;32m     21\u001b[0m \u001b[39m# the function returns a dictionary with nodes as keys and degree as value\u001b[39;00m\n",
      "File \u001b[1;32mc:\\Users\\ghiot\\Documents\\GitHub\\CineMAC\\venv\\lib\\site-packages\\IPython\\core\\interactiveshell.py:284\u001b[0m, in \u001b[0;36m_modified_open\u001b[1;34m(file, *args, **kwargs)\u001b[0m\n\u001b[0;32m    277\u001b[0m \u001b[39mif\u001b[39;00m file \u001b[39min\u001b[39;00m {\u001b[39m0\u001b[39m, \u001b[39m1\u001b[39m, \u001b[39m2\u001b[39m}:\n\u001b[0;32m    278\u001b[0m     \u001b[39mraise\u001b[39;00m \u001b[39mValueError\u001b[39;00m(\n\u001b[0;32m    279\u001b[0m         \u001b[39mf\u001b[39m\u001b[39m\"\u001b[39m\u001b[39mIPython won\u001b[39m\u001b[39m'\u001b[39m\u001b[39mt let you open fd=\u001b[39m\u001b[39m{\u001b[39;00mfile\u001b[39m}\u001b[39;00m\u001b[39m by default \u001b[39m\u001b[39m\"\u001b[39m\n\u001b[0;32m    280\u001b[0m         \u001b[39m\"\u001b[39m\u001b[39mas it is likely to crash IPython. If you know what you are doing, \u001b[39m\u001b[39m\"\u001b[39m\n\u001b[0;32m    281\u001b[0m         \u001b[39m\"\u001b[39m\u001b[39myou can use builtins\u001b[39m\u001b[39m'\u001b[39m\u001b[39m open.\u001b[39m\u001b[39m\"\u001b[39m\n\u001b[0;32m    282\u001b[0m     )\n\u001b[1;32m--> 284\u001b[0m \u001b[39mreturn\u001b[39;00m io_open(file, \u001b[39m*\u001b[39margs, \u001b[39m*\u001b[39m\u001b[39m*\u001b[39mkwargs)\n",
      "\u001b[1;31mFileNotFoundError\u001b[0m: [Errno 2] No such file or directory: '../src/graph_files/network2proj.gexf'"
     ]
    }
   ],
   "source": [
    "# CENTRALITY MEASURES\n",
    "# Degree centrality\n",
    "# Eigenvector centrality\n",
    "# Closeness centrality ( most well connected agents)\n",
    "\n",
    "# what are the movies in which our most important (influential and well connected) agents of Network 2 participated and how that is related to the influence ranking of the movie\n",
    "# components - clustering coefficient - local clustering coefficient - redundancy (e the connectedness of the network as well as individuate structural holes, hence those nodes, whose missing links give it more control over diffusion of knowledge and information between neighbors)\n",
    "\n",
    "import networkx as nx\n",
    "import matplotlib.pyplot as plt\n",
    "import pandas as pd\n",
    "\n",
    "\n",
    "with open(\"../src/graph_files/network2proj.gexf\", 'r', encoding='utf-8') as f:\n",
    "    \n",
    "# Read the graph from the file\n",
    "    n2 = nx.read_gexf(f)\n",
    "\n",
    "# ================ DEGREE CENTRALITY\n",
    "#I want to find out who are the most connected people in the network\n",
    "# the function returns a dictionary with nodes as keys and degree as value\n",
    "\n",
    "degree = nx.degree_centrality(n2)\n",
    "\n",
    "degree_list = []\n",
    "for key, value in degree.items():\n",
    "    tup = (key, value)\n",
    "    degree_list.append(tup)\n",
    "\n",
    "\n",
    "highest_degree = degree_list[:20]\n",
    "\n",
    "names= []\n",
    "degree= []\n",
    "role= []\n",
    "movies= [] #I want to retrieve the movies he collaborated in\n",
    "\n",
    "for tup in highest_degree:\n",
    "    r = nx.get_node_attributes(n2, tup[0])\n",
    "    edges = n2.edges(tup[0], data=True)\n",
    "    edge_labels = [d['label'] for u, v, d in edges] # u and v are the endpoints of the edge, and d is a dictionary containing any edge attributes.\n",
    "    names.append(tup[0])\n",
    "    degree.append(tup[1])\n",
    "    role.append(r)\n",
    "    movies.append(edge_labels)\n",
    "\n",
    "\n"
   ]
  }
 ],
 "metadata": {
  "kernelspec": {
   "display_name": "venv",
   "language": "python",
   "name": "python3"
  },
  "language_info": {
   "codemirror_mode": {
    "name": "ipython",
    "version": 3
   },
   "file_extension": ".py",
   "mimetype": "text/x-python",
   "name": "python",
   "nbconvert_exporter": "python",
   "pygments_lexer": "ipython3",
   "version": "3.10.4"
  },
  "orig_nbformat": 4
 },
 "nbformat": 4,
 "nbformat_minor": 2
}
