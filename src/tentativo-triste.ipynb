{
 "cells": [
  {
   "cell_type": "code",
   "execution_count": null,
   "id": "28dad077-5a4e-418f-ac3c-1241104d8fb9",
   "metadata": {},
   "outputs": [],
   "source": [
    "'''\n",
    "\n",
    "CINEMAC. \n",
    "\n",
    "This program is free software: you can redistribute it and/or modify\n",
    "it under the terms of the GNU General Public License as published by\n",
    "the Free Software Foundation, either version 3 of the License, or\n",
    "(at your option) any later version.\n",
    "\n",
    "This program is distributed in the hope that it will be useful,\n",
    "but WITHOUT ANY WARRANTY; without even the implied warranty of\n",
    "MERCHANTABILITY or FITNESS FOR A PARTICULAR PURPOSE.  See the\n",
    "GNU General Public License for more details.\n",
    "\n",
    "You should have received a copy of the GNU General Public License\n",
    "along with this program.  If not, see <http://www.gnu.org/licenses/>.\n",
    "\n",
    "project for the course of Network Analysis - 2022/2023\n",
    "Realized by.\n",
    "\tAndrea D'Arpa\n",
    "\tMaddalena Ghiotto\t\t\n",
    "\tChloe Papadopoulou\n",
    "\n",
    "'''\n",
    "import os\n",
    "import numpy as np\n",
    "import pandas as pd\n",
    "# import matplotlib.pyplot as plt\n",
    "from ast import literal_eval\n",
    "from listReader import *\n",
    "\n",
    "# creating the tables with pandas to interact with our datasets\n",
    "# getting the current working directory\n",
    "cwd = os.getcwd()\n",
    "\n",
    "name = cwd+'/datasets/name.basics.tsv'\n",
    "name_table = pd.read_csv(name , sep='\\t', header=0)\n",
    "\n",
    "title = cwd+'/datasets/title.principals.tsv'\n",
    "title_table = pd.read_csv(title , sep='\\t', header=0)\n",
    "\n",
    "#import titles ds to match the movie-links titles, \n",
    "title_name = cwd+'/datasets/title.basics.tsv'\n",
    "title_name_table= pd.read_csv(title_name, sep='\\t', header=0, low_memory=False)\n",
    "\n",
    "                              \n",
    "# dtype={'tconst':'int64',\t'titleType':'str',\t'primaryTitle':'str',\t'originalTitle':'str',\t'isAdult':'bool',\t'startYear':'int64',\t'endYear':'int64',\t'runtimeMinutes':'int64',\t'genres':'str'})\n",
    "\n",
    "\n",
    "countries = cwd+'/datasets/countries.list.gz'\n",
    "countries_table = get_movie_countries(countries)\n",
    "countries_table.to_csv(\"countries_table.csv\")\n",
    "\n",
    "movies = cwd+'/datasets/movie-links.list.gz'\n",
    "movies_table = get_movie_links(movies)\n",
    "\n",
    "'''\n",
    "testing the tables\n",
    "'''\n",
    "# print(movies_table.head(5))\n",
    "# print(countries_table.head(5))\n",
    "# print(title_table.head(5))\n",
    "# print(name_table.head(5))\n",
    "\n",
    "\n",
    "#merge to include countries:\n",
    "\n",
    "movies_cit_countries = pd.merge(movies_table, countries_table, on='movie', how='left')\n",
    "\n",
    "movies_cit_countries=pd.merge(movies_cit_countries, countries_table, left_on=\"cites\", right_on=\"movie\",how=\"left\")\n",
    "\n",
    "movies_cit_countries.rename(columns={\"movie_x\":\"movie\",\"movie_y\":\"cited_movies\",\"country_x\":\"movie_country\",\"country_y\":\"cites_country\"},inplace=True)\n",
    "movies_cit_countries=movies_cit_countries.reindex(columns= ['movie', 'movie_country', 'cites', 'movie_y','cites_country'])\n",
    "movies_cit_countries.drop(columns=['movie_y'], inplace=True)\n",
    "movies_cit_countries.head(30)\n",
    "\n",
    "# str(len(movies_cit_countries)) + \" final, original is \" + str(len(movies_table))\n",
    "\n",
    "#the lengths are different and i don't understand why"
   ]
  },
  {
   "cell_type": "code",
   "execution_count": null,
   "id": "8802c3c4-1c03-42bf-b9fc-e80091a49b86",
   "metadata": {
    "tags": []
   },
   "outputs": [],
   "source": [
    "#retrieve information for movies collaborators. **not currently working**\n",
    "\n",
    "#how to match\n",
    "\n",
    "#append the movie title to the tconst ones.\n",
    "#split the movie column in the first dataframe to separate title from year\n",
    "#match both movie title (that is ***included*** in the imdb, so not an exact match) and year with startYear\n",
    "\n",
    "#\n",
    "\n",
    "movies_cit_countries[['title','year']] = movies_cit_countries.movie.str.split(\"\\(\", 1, expand=True)\n",
    "movies_cit_countries['year']=movies_cit_countries['year'].str.replace(')','')  \n",
    "\n",
    "movies_cit_countries[['primaryTitle_citation','year_citation']] = movies_cit_countries.cites.str.split(\"\\(\", 1, expand=True)\n",
    "movies_cit_countries['year_citation']=movies_cit_countries['year_citation'].str.replace(')','')  \n",
    "\n",
    "movies_cit_countries[:100]"
   ]
  },
  {
   "cell_type": "code",
   "execution_count": null,
   "id": "5e31a4ca-16ce-4df9-a433-f09d162ebbef",
   "metadata": {
    "tags": []
   },
   "outputs": [],
   "source": [
    "#final_df = title_name_table.merge(movies_cit_countries, how=\"inner\", left_on= \"primaryTitle\" , right_on= \"title_citation\")\n",
    "final_df = title_name_table.set_index('primaryTitle').join(movies_cit_countries, how='inner', lsuffix='', rsuffix='_citation', sort=False, validate=None)\n",
    "final_df[:50]\n",
    "                                  \n",
    "                                  \n",
    "                                  \n",
    "                                  \n",
    "                                  \n",
    "                                  \n",
    "                                  \n",
    "                                  "
   ]
  },
  {
   "cell_type": "code",
   "execution_count": null,
   "id": "81e0bdee-cd91-494b-bc23-ae1db31793da",
   "metadata": {},
   "outputs": [],
   "source": []
  }
 ],
 "metadata": {
  "kernelspec": {
   "display_name": "Python 3 (ipykernel)",
   "language": "python",
   "name": "python3"
  },
  "language_info": {
   "codemirror_mode": {
    "name": "ipython",
    "version": 3
   },
   "file_extension": ".py",
   "mimetype": "text/x-python",
   "name": "python",
   "nbconvert_exporter": "python",
   "pygments_lexer": "ipython3",
   "version": "3.10.9"
  },
  "vscode": {
   "interpreter": {
    "hash": "0987c8c4d93fe3c5ea014763cd310a9f5294785f07432948b5ce8865489b952e"
   }
  }
 },
 "nbformat": 4,
 "nbformat_minor": 5
}
